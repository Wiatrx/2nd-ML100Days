{
 "cells": [
  {
   "cell_type": "markdown",
   "metadata": {},
   "source": [
    "## Face API "
   ]
  },
  {
   "cell_type": "code",
   "execution_count": null,
   "metadata": {},
   "outputs": [],
   "source": [
    "faceURI = \"https://westus2.api.cognitive.microsoft.com/face/v1.0\"\n",
    "faceKey = \"46cd3bab9e7a463e9c32330c84300d26\""
   ]
  },
  {
   "cell_type": "raw",
   "metadata": {},
   "source": [
    "Python Face SDK 套件\n",
    "cognitive_face: 發出 Http Request 請求呼叫微軟的 Face API\n",
    "pillow: Python 的圖像處理套件，支援多種檔案格式顯示，及圖像處理能力"
   ]
  },
  {
   "cell_type": "code",
   "execution_count": null,
   "metadata": {},
   "outputs": [],
   "source": [
    "!pip install cognitive_face\n",
    "!pip install pillow"
   ]
  },
  {
   "cell_type": "markdown",
   "metadata": {},
   "source": [
    "### 臉部偵測"
   ]
  },
  {
   "cell_type": "code",
   "execution_count": null,
   "metadata": {},
   "outputs": [],
   "source": [
    "import cognitive_face as CF\n",
    "\n",
    "# 設定 Face API URL & key\n",
    "CF.BaseUrl.set(faceURI)\n",
    "CF.Key.set(faceKey)\n",
    "\n",
    "# 偵測人臉在圖片中的位置\n",
    "result = CF.face.detect('detect.jpg')\n",
    "print (result)"
   ]
  },
  {
   "cell_type": "markdown",
   "metadata": {},
   "source": [
    "標示圖片中人臉的位置"
   ]
  },
  {
   "cell_type": "code",
   "execution_count": null,
   "metadata": {},
   "outputs": [],
   "source": [
    "%matplotlib inline\n",
    "from matplotlib.pyplot import imshow\n",
    "from PIL import Image, ImageDraw\n",
    "\n",
    "def mark_face(fileName, detect_result=None, color='blue'):  \n",
    "    if detect_result is None:\n",
    "        detect_result = CF.face.detect(fileName)\n",
    "\n",
    "    #繪製圖片\n",
    "    img1 = Image.open(fileName)\n",
    "    draw = ImageDraw.Draw(img1)\n",
    "    for currFace in detect_result:\n",
    "        faceRectangle = currFace['faceRectangle']\n",
    "        left = faceRectangle['left']\n",
    "        top = faceRectangle['top']\n",
    "        width = faceRectangle['width']\n",
    "        height = faceRectangle['height']\n",
    "        #繪製框線\n",
    "        draw.line([(left,top),(left+width,top)],fill=color, width=5)\n",
    "        draw.line([(left+width,top),(left+width,top+height)],fill=color , width=5)\n",
    "        draw.line([(left+width,top+height),(left, top+height)],fill=color , width=5)\n",
    "        draw.line([(left,top+height),(left, top)],fill=color , width=5)\n",
    "\n",
    "    # show the image\n",
    "    imshow(img1)"
   ]
  },
  {
   "cell_type": "code",
   "execution_count": null,
   "metadata": {},
   "outputs": [],
   "source": [
    "file1 = 'img1.jpg'\n",
    "mark_face(file1)"
   ]
  },
  {
   "cell_type": "markdown",
   "metadata": {},
   "source": [
    "取得faceId"
   ]
  },
  {
   "cell_type": "code",
   "execution_count": null,
   "metadata": {},
   "outputs": [],
   "source": [
    "result = CF.face.detect(file1)\n",
    "face1 = result[0]['faceId']\n",
    "print (\"Face 1:\" + face1)"
   ]
  },
  {
   "cell_type": "markdown",
   "metadata": {},
   "source": [
    "### 臉部辨識"
   ]
  },
  {
   "cell_type": "code",
   "execution_count": null,
   "metadata": {},
   "outputs": [],
   "source": [
    "def verify_face(face1, face2):\n",
    "    # 使用Face API 驗證兩張圖片是否相符\n",
    "    verify = CF.face.verify(face1, face2)\n",
    "    print(verify)\n",
    "    print(\"Confidence Level: \" + str(verify['confidence']))\n",
    "    return verify['isIdentical'] == True"
   ]
  },
  {
   "cell_type": "code",
   "execution_count": null,
   "metadata": {},
   "outputs": [],
   "source": [
    "file2 = 'img2.jpg'\n",
    "\n",
    "# 偵測人臉在圖片中的位置\n",
    "result2 = CF.face.detect(file2)\n",
    "\n",
    "# 取得faceId\n",
    "if result2 is not None:\n",
    "    face2 = result2[0]['faceId']\n",
    "    print (\"Face 2:\" + face2)\n",
    "\n",
    "verified = verify_face(face1, face2)\n",
    "if(verified):\n",
    "    color = \"green\"\n",
    "else:\n",
    "    color = \"red\"\n",
    "\n",
    "mark_face(file2, result2, color)"
   ]
  },
  {
   "cell_type": "code",
   "execution_count": null,
   "metadata": {},
   "outputs": [],
   "source": [
    "file3 = 'img3.jpg'\n",
    "\n",
    "# 偵測人臉在圖片中的位置\n",
    "result3 = CF.face.detect(file3)\n",
    "\n",
    "# 取得faceId\n",
    "if result3 is not None:\n",
    "    face3 = result3[0]['faceId']\n",
    "    print (\"Face 3:\" + face3)\n",
    "\n",
    "verified = verify_face(face1, face3)\n",
    "if(verified):\n",
    "    color = \"green\"\n",
    "else:\n",
    "    color = \"red\"\n",
    "\n",
    "mark_face(file3, result3, color)"
   ]
  },
  {
   "cell_type": "code",
   "execution_count": null,
   "metadata": {},
   "outputs": [],
   "source": [
    "file4 = 'img4.jpg'\n",
    "\n",
    "# 偵測人臉在圖片中的位置\n",
    "result4 = CF.face.detect(file4)\n",
    "\n",
    "# 取得faceId\n",
    "if result4 is not None:\n",
    "    face4 = result4[0]['faceId']\n",
    "    print (\"Face 4:\" + face4)\n",
    "\n",
    "verified = verify_face(face1, face4)\n",
    "if(verified):\n",
    "    color = \"green\"\n",
    "else:\n",
    "    color = \"red\"\n",
    "\n",
    "mark_face(file4, result4, color)"
   ]
  },
  {
   "cell_type": "code",
   "execution_count": null,
   "metadata": {},
   "outputs": [],
   "source": []
  }
 ],
 "metadata": {
  "kernelspec": {
   "display_name": "Python 3",
   "language": "python",
   "name": "python3"
  },
  "language_info": {
   "codemirror_mode": {
    "name": "ipython",
    "version": 3
   },
   "file_extension": ".py",
   "mimetype": "text/x-python",
   "name": "python",
   "nbconvert_exporter": "python",
   "pygments_lexer": "ipython3",
   "version": "3.6.4"
  }
 },
 "nbformat": 4,
 "nbformat_minor": 2
}
