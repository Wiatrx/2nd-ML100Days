{
 "cells": [
  {
   "cell_type": "markdown",
   "metadata": {},
   "source": [
    "### 載入圖片"
   ]
  },
  {
   "cell_type": "code",
   "execution_count": 1,
   "metadata": {},
   "outputs": [
    {
     "ename": "FileNotFoundError",
     "evalue": "[Errno 2] No such file or directory: 'img.jpg'",
     "output_type": "error",
     "traceback": [
      "\u001b[1;31m---------------------------------------------------------------------------\u001b[0m",
      "\u001b[1;31mFileNotFoundError\u001b[0m                         Traceback (most recent call last)",
      "\u001b[1;32m<ipython-input-1-2f1188b010f3>\u001b[0m in \u001b[0;36m<module>\u001b[1;34m()\u001b[0m\n\u001b[0;32m      5\u001b[0m \u001b[1;32mimport\u001b[0m \u001b[0mnumpy\u001b[0m \u001b[1;32mas\u001b[0m \u001b[0mnp\u001b[0m\u001b[1;33m\u001b[0m\u001b[0m\n\u001b[0;32m      6\u001b[0m \u001b[1;33m\u001b[0m\u001b[0m\n\u001b[1;32m----> 7\u001b[1;33m \u001b[0mi\u001b[0m \u001b[1;33m=\u001b[0m \u001b[0mnp\u001b[0m\u001b[1;33m.\u001b[0m\u001b[0marray\u001b[0m\u001b[1;33m(\u001b[0m\u001b[0mImage\u001b[0m\u001b[1;33m.\u001b[0m\u001b[0mopen\u001b[0m\u001b[1;33m(\u001b[0m\u001b[1;34m'img.jpg'\u001b[0m\u001b[1;33m)\u001b[0m\u001b[1;33m)\u001b[0m\u001b[1;33m\u001b[0m\u001b[0m\n\u001b[0m\u001b[0;32m      8\u001b[0m \u001b[0mimshow\u001b[0m\u001b[1;33m(\u001b[0m\u001b[0mi\u001b[0m\u001b[1;33m)\u001b[0m\u001b[1;33m\u001b[0m\u001b[0m\n",
      "\u001b[1;32mc:\\users\\asus\\appdata\\local\\programs\\python\\python36\\lib\\site-packages\\PIL\\Image.py\u001b[0m in \u001b[0;36mopen\u001b[1;34m(fp, mode)\u001b[0m\n\u001b[0;32m   2607\u001b[0m \u001b[1;33m\u001b[0m\u001b[0m\n\u001b[0;32m   2608\u001b[0m     \u001b[1;32mif\u001b[0m \u001b[0mfilename\u001b[0m\u001b[1;33m:\u001b[0m\u001b[1;33m\u001b[0m\u001b[0m\n\u001b[1;32m-> 2609\u001b[1;33m         \u001b[0mfp\u001b[0m \u001b[1;33m=\u001b[0m \u001b[0mbuiltins\u001b[0m\u001b[1;33m.\u001b[0m\u001b[0mopen\u001b[0m\u001b[1;33m(\u001b[0m\u001b[0mfilename\u001b[0m\u001b[1;33m,\u001b[0m \u001b[1;34m\"rb\"\u001b[0m\u001b[1;33m)\u001b[0m\u001b[1;33m\u001b[0m\u001b[0m\n\u001b[0m\u001b[0;32m   2610\u001b[0m         \u001b[0mexclusive_fp\u001b[0m \u001b[1;33m=\u001b[0m \u001b[1;32mTrue\u001b[0m\u001b[1;33m\u001b[0m\u001b[0m\n\u001b[0;32m   2611\u001b[0m \u001b[1;33m\u001b[0m\u001b[0m\n",
      "\u001b[1;31mFileNotFoundError\u001b[0m: [Errno 2] No such file or directory: 'img.jpg'"
     ]
    }
   ],
   "source": [
    "%matplotlib inline\n",
    "#在Jupyter Notebook 中顯示 matplotlib 繪製的圖案\n",
    "from matplotlib.pyplot import imshow  #python繪圖套件\n",
    "from PIL import Image   #Python Imaging Library\n",
    "import numpy as np\n",
    "    \n",
    "i = np.array(Image.open('img.jpg'))\n",
    "imshow(i)"
   ]
  },
  {
   "cell_type": "markdown",
   "metadata": {},
   "source": [
    "### 圖像的數值特性"
   ]
  },
  {
   "cell_type": "code",
   "execution_count": null,
   "metadata": {},
   "outputs": [],
   "source": [
    "type(i)   # 變數的資料型態"
   ]
  },
  {
   "cell_type": "code",
   "execution_count": null,
   "metadata": {},
   "outputs": [],
   "source": [
    "i.dtype  # numpy array元素資料型態"
   ]
  },
  {
   "cell_type": "code",
   "execution_count": null,
   "metadata": {},
   "outputs": [],
   "source": [
    "i.shape  # numpy array 的Shape"
   ]
  },
  {
   "cell_type": "markdown",
   "metadata": {},
   "source": [
    "### 彩色轉灰階圖案"
   ]
  },
  {
   "cell_type": "code",
   "execution_count": null,
   "metadata": {},
   "outputs": [],
   "source": [
    "#!pip install scikit-image\n",
    "#!pip install scipy\n",
    "import skimage.color as sc   #基於Scipy的圖像處理模組, 使用Numpy陣列來處理圖片\n",
    "\n",
    "i_mono = sc.rgb2grey(i)   # skimage.color將RGB彩色圖案轉為灰階圖案\n",
    "imshow(i_mono, cmap='gray')  # 顯示灰階圖案\n",
    "i_mono.shape    # 灰階圖案的Shape"
   ]
  },
  {
   "cell_type": "markdown",
   "metadata": {},
   "source": [
    "### 分析圖案-像素值分佈"
   ]
  },
  {
   "cell_type": "markdown",
   "metadata": {},
   "source": [
    "直方圖顯示像素值分佈"
   ]
  },
  {
   "cell_type": "code",
   "execution_count": null,
   "metadata": {},
   "outputs": [],
   "source": [
    "def im_hist(img):\n",
    "    import matplotlib.pyplot as plt    \n",
    "    fig = plt.figure(figsize=(8, 6))\n",
    "    fig.clf()\n",
    "    ax = fig.gca()    \n",
    "    ax.hist(img.flatten(), bins = 256)    # flatten():將多維陣列降為一維陣列\n",
    "    plt.show()\n",
    "\n",
    "im_hist(i_mono)"
   ]
  },
  {
   "cell_type": "markdown",
   "metadata": {},
   "source": [
    "累積分布函數圖(CDF)顯示像素值分佈"
   ]
  },
  {
   "cell_type": "code",
   "execution_count": null,
   "metadata": {},
   "outputs": [],
   "source": [
    "def im_cdf(img):\n",
    "    import matplotlib.pyplot as plt    \n",
    "    fig = plt.figure(figsize=(8, 6))\n",
    "    fig.clf()\n",
    "    ax = fig.gca()    \n",
    "    ax.hist(img.flatten(), bins = 256, cumulative=True)\n",
    "    plt.show()\n",
    "    \n",
    "im_cdf(i_mono)"
   ]
  },
  {
   "cell_type": "markdown",
   "metadata": {},
   "source": [
    "### 均衡化圖像"
   ]
  },
  {
   "cell_type": "code",
   "execution_count": null,
   "metadata": {},
   "outputs": [],
   "source": [
    "from skimage import exposure\n",
    "\n",
    "i_eq = exposure.equalize_hist(i_mono)    \n",
    "imshow(i_eq, cmap='gray')"
   ]
  },
  {
   "cell_type": "code",
   "execution_count": null,
   "metadata": {},
   "outputs": [],
   "source": [
    "im_hist(i_eq)\n",
    "im_cdf(i_eq)"
   ]
  },
  {
   "cell_type": "markdown",
   "metadata": {},
   "source": [
    "### 影像降噪"
   ]
  },
  {
   "cell_type": "code",
   "execution_count": null,
   "metadata": {},
   "outputs": [],
   "source": [
    "#加入隨機雜訊\n",
    "import skimage\n",
    "i_n = skimage.util.random_noise(i_eq)\n",
    "imshow(i_n, cmap=\"gray\")"
   ]
  },
  {
   "cell_type": "markdown",
   "metadata": {},
   "source": [
    "### 高斯濾波器降噪"
   ]
  },
  {
   "cell_type": "raw",
   "metadata": {},
   "source": [
    "scipy.ndimage.gaussian_filter(input, sigma, ...)\n",
    "   input: 輸入陣列\n",
    "   sigma: 高斯分布的標準差, 標準差越大, 平滑效果越明顯"
   ]
  },
  {
   "cell_type": "code",
   "execution_count": null,
   "metadata": {},
   "outputs": [],
   "source": [
    "def gauss_filter(im, sigma = 2):\n",
    "    from scipy.ndimage.filters import gaussian_filter as gf\n",
    "    import numpy as np\n",
    "    return gf(im, sigma = sigma)   \n",
    "i_g = gauss_filter(i_n)\n",
    "imshow(i_g, cmap=\"gray\")"
   ]
  },
  {
   "cell_type": "markdown",
   "metadata": {},
   "source": [
    "### 中值濾波器降噪"
   ]
  },
  {
   "cell_type": "raw",
   "metadata": {},
   "source": [
    "scipy.ndimage.filters.median_filter(input, size=None,...)\n",
    "    input: 輸入陣列\n",
    "    size:由指定尺寸的臨域陣列取得中值,數值越大,平滑效果越明顯"
   ]
  },
  {
   "cell_type": "code",
   "execution_count": null,
   "metadata": {},
   "outputs": [],
   "source": [
    "def med_filter(im, size =2):\n",
    "    from scipy.ndimage.filters import median_filter as mf\n",
    "    import numpy as np\n",
    "    return mf(im, size = size)     \n",
    "i_m = med_filter(i_n)\n",
    "imshow(i_m, cmap=\"gray\")"
   ]
  },
  {
   "cell_type": "markdown",
   "metadata": {},
   "source": [
    "### 擷取圖像特徵"
   ]
  },
  {
   "cell_type": "raw",
   "metadata": {},
   "source": [
    "scipy.ndimage.sobel(input, axis=-1,...)\n",
    "    input: 輸入陣列\n",
    "    axis:1=>水平梯度, 0=>垂直梯度\n",
    "numpy.hypot(x1, x2) =>取得歐拉距離(斜邊長)\n",
    "numpy.amax(a) =>傳回陣列的最大值"
   ]
  },
  {
   "cell_type": "code",
   "execution_count": null,
   "metadata": {},
   "outputs": [],
   "source": [
    "def edge_sobel(image):\n",
    "    from scipy import ndimage\n",
    "    import skimage.color as sc\n",
    "    import numpy as np\n",
    "    image = sc.rgb2gray(image) # 將彩色圖片轉為灰階\n",
    "    dx = ndimage.sobel(image, 1)  # 水平梯度\n",
    "    dy = ndimage.sobel(image, 0)  # 垂直梯度\n",
    "    mag = np.hypot(dx, dy)  # 歐拉距離\n",
    "    mag *= 255.0 / np.amax(mag)  # 一般化, 最大數值轉換為255, 其餘按比例相乘\n",
    "    mag = mag.astype(np.uint8) # 取整數\n",
    "    return mag"
   ]
  },
  {
   "cell_type": "markdown",
   "metadata": {},
   "source": [
    "使用中值濾波後的圖案擷取邊緣"
   ]
  },
  {
   "cell_type": "code",
   "execution_count": null,
   "metadata": {},
   "outputs": [],
   "source": [
    "i_edge = edge_sobel(i_m)\n",
    "imshow(i_edge, cmap=\"gray\")"
   ]
  },
  {
   "cell_type": "markdown",
   "metadata": {},
   "source": [
    "使用高斯濾波的圖案擷取邊緣"
   ]
  },
  {
   "cell_type": "code",
   "execution_count": null,
   "metadata": {},
   "outputs": [],
   "source": [
    "i_edge = edge_sobel(i_g)\n",
    "imshow(i_edge, cmap=\"gray\")"
   ]
  },
  {
   "cell_type": "markdown",
   "metadata": {},
   "source": [
    "### 角點偵測 \n",
    "Harris Corner Detection"
   ]
  },
  {
   "cell_type": "raw",
   "metadata": {},
   "source": [
    "skimage.feature.corner_harris(image, ...)\n",
    "    使用Harris Corner演算法, 傳回演算後圖案的numpy陣列\n",
    "\n",
    "skimage.feature.corner_harris(image, min_distance=1, ...)\n",
    "    image: 輸入圖案\n",
    "    min_distance: 分離峰值最小相隔距離\n",
    "    傳回角點位置  "
   ]
  },
  {
   "cell_type": "code",
   "execution_count": null,
   "metadata": {},
   "outputs": [],
   "source": [
    "# Function to apply the Harris corner-detection algorithm to an image\n",
    "def corner_harr(im, min_distance = 20):\n",
    "    from skimage.feature import corner_harris, corner_peaks\n",
    "    mag = corner_harris(im)\n",
    "    return corner_peaks(mag, min_distance = min_distance)\n",
    "\n",
    "# Find the corners in the median filtered image with a minimum distance of 20 pixels\n",
    "harris = corner_harr(i_m, 20)\n",
    "\n",
    "print (harris)"
   ]
  },
  {
   "cell_type": "markdown",
   "metadata": {},
   "source": [
    "圖片上繪製角點\n",
    "matplotlib.pyplot.plot(*args, scalex=True, scaley=True, data=None, **kwargs)\n",
    "    r:紅色 +:加號 color: 顏色, markersize: 標點大小\n",
    "    "
   ]
  },
  {
   "cell_type": "code",
   "execution_count": null,
   "metadata": {},
   "outputs": [],
   "source": [
    "# Function to plot the image with the harris corners marked on it\n",
    "def plot_harris(im, harris, markersize = 20, color = 'red'):\n",
    "    import matplotlib.pyplot as plt\n",
    "    import numpy as np\n",
    "    fig = plt.figure(figsize=(6, 6))\n",
    "    fig.clf()\n",
    "    ax = fig.gca()    \n",
    "    ax.imshow(np.array(im).astype(float), cmap=\"gray\")\n",
    "    ax.plot(harris[:, 1], harris[:, 0], 'r+', color = color, markersize=markersize)  #在所有角點位置繪製大小為20像素的紅色加號\n",
    "    return 'Done'  \n",
    "\n",
    "plot_harris(i_g, harris)"
   ]
  },
  {
   "cell_type": "markdown",
   "metadata": {},
   "source": [
    "### 自訂圖像分類"
   ]
  },
  {
   "cell_type": "code",
   "execution_count": null,
   "metadata": {},
   "outputs": [],
   "source": [
    "%matplotlib inline\n",
    "from matplotlib.pyplot import imshow\n",
    "from PIL import Image\n",
    "import requests\n",
    "from io import BytesIO #處理二進位輸出入資料\n",
    "import http.client, urllib.request, urllib.parse, urllib.error, base64, json\n",
    "\n",
    "#img_url = 'https://raw.githubusercontent.com/MicrosoftLearning/AI-Introduction/master/files/Vision/Test.jpg'\n",
    "img_url = 'https://cw1.tw/CH/images/channel_master/83810d51-9167-4c69-a119-26d962d80ad2.jpg'\n",
    "#img_url = 'http://www.pachd.com/free-images/food-images/apple-01.jpg'\n",
    "#img_url = 'http://www.pachd.com/free-images/food-images/carrot-02.jpg'\n",
    "\n",
    "headers = {\n",
    "    # Request headers\n",
    "    'Content-Type': 'application/json',\n",
    "    'Prediction-key': 'fcb727434c5447c99721e7caf9913e10',\n",
    "}\n",
    "\n",
    "params = urllib.parse.urlencode({\n",
    "})\n",
    "\n",
    "body = \"{'Url':'\" + img_url + \"'}\"\n",
    "\n",
    "try:\n",
    "    # 取得自訂辨識結果\n",
    "    conn = http.client.HTTPSConnection('southcentralus.api.cognitive.microsoft.com')\n",
    "    conn.request(\"POST\", \"/customvision/v2.0/Prediction/32999dc8-638b-4125-8b57-2662d742d4d0/url?%s\" % params, body, headers)\n",
    "    \n",
    "    response = conn.getresponse()\n",
    "    data = response.read()\n",
    "    strData = data.decode(\"UTF-8\")\n",
    "    # 結果字串轉換為JSON格式\n",
    "    parsed = json.loads(strData)\n",
    "    #print(parsed)\n",
    "    # 將JSON轉換為dict\n",
    "    sorted_predictions = dict(parsed) \n",
    "    #print(sorted_predictions)    \n",
    "    # 依 probability 反向排序\n",
    "    sorted_predictions['predictions'] = sorted(parsed['predictions'], key=lambda x : x['probability'], reverse=True)\n",
    "    #取得排序中第一個預測\n",
    "    print(sorted_predictions['predictions'][0]['tagName'])\n",
    "    conn.close()\n",
    "\n",
    "    # 取得網路圖片並顯示\n",
    "    response = requests.get(img_url)\n",
    "    img = Image.open(BytesIO(response.content))\n",
    "    imshow(img)\n",
    "except Exception as e:\n",
    "    print(\"[Errno {0}] {1}\".format(e.errno, e.strerror))"
   ]
  },
  {
   "cell_type": "markdown",
   "metadata": {},
   "source": [
    "### 電腦視覺（Computer Vision）API"
   ]
  },
  {
   "cell_type": "code",
   "execution_count": null,
   "metadata": {},
   "outputs": [],
   "source": [
    "visionURI = 'westus2.api.cognitive.microsoft.com'\n",
    "visionKey = '64abf492e349485788c8f83e38cf9de7'"
   ]
  },
  {
   "cell_type": "markdown",
   "metadata": {},
   "source": [
    "取得網路圖片並顯示"
   ]
  },
  {
   "cell_type": "code",
   "execution_count": null,
   "metadata": {},
   "outputs": [],
   "source": [
    "%matplotlib inline\n",
    "from matplotlib.pyplot import imshow\n",
    "from PIL import Image\n",
    "import requests\n",
    "from io import BytesIO\n",
    "\n",
    "img_url = 'https://raw.githubusercontent.com/MicrosoftLearning/AI-Introduction/master/files/graeme2.jpg'\n",
    "\n",
    "# Get the image and show it\n",
    "response = requests.get(img_url)\n",
    "img = Image.open(BytesIO(response.content))\n",
    "imshow(img)"
   ]
  },
  {
   "cell_type": "raw",
   "metadata": {},
   "source": [
    "取得圖片特徵"
   ]
  },
  {
   "cell_type": "code",
   "execution_count": null,
   "metadata": {},
   "outputs": [],
   "source": [
    "def get_image_features(img_url):\n",
    "    import http.client, urllib.request, urllib.parse, urllib.error, base64, json\n",
    "\n",
    "    headers = {\n",
    "        # Request headers.\n",
    "        'Content-Type': 'application/json',\n",
    "        'Ocp-Apim-Subscription-Key': visionKey,\n",
    "    }\n",
    "\n",
    "    params = urllib.parse.urlencode({\n",
    "        # Request parameters. All of them are optional.\n",
    "        'visualFeatures': 'Categories,Description,Color',\n",
    "        'language': 'en',\n",
    "    })\n",
    "\n",
    "    body = \"{'url':'\" + img_url + \"'}\"\n",
    "\n",
    "    try:\n",
    "        # 呼叫 Computer Vision REST API\n",
    "        conn = http.client.HTTPSConnection(visionURI)\n",
    "        conn.request(\"POST\", \"/vision/v1.0/analyze?%s\" % params, body, headers)\n",
    "        # 取得Response\n",
    "        response = conn.getresponse()\n",
    "        data = response.read().decode(\"UTF-8\")\n",
    "\n",
    "        # 回應字串資料轉換成Json格式\n",
    "        parsed = json.loads(data)\n",
    "        if response is not None:\n",
    "            return parsed\n",
    "        conn.close()\n",
    "\n",
    "\n",
    "    except Exception as e:\n",
    "        print('Error:')\n",
    "        print(e)  \n"
   ]
  },
  {
   "cell_type": "code",
   "execution_count": null,
   "metadata": {},
   "outputs": [],
   "source": [
    "jsonData = get_image_features(img_url)\n",
    "#取得完整JSON格式的圖像特徵描述\n",
    "print (json.dumps(jsonData, sort_keys=True, indent=2))"
   ]
  },
  {
   "cell_type": "code",
   "execution_count": null,
   "metadata": {},
   "outputs": [],
   "source": [
    "desc = jsonData['description']['captions'][0]['text']\n",
    "print(desc)"
   ]
  },
  {
   "cell_type": "code",
   "execution_count": null,
   "metadata": {},
   "outputs": [],
   "source": [
    "#img_url = 'https://raw.githubusercontent.com/MicrosoftLearning/AI-Introduction/master/files/uke.jpg'\n",
    "img_url = 'https://raw.githubusercontent.com/MicrosoftLearning/AI-Introduction/master/files/soccer.jpg'\n",
    "\n",
    "# Get the image and show it\n",
    "response = requests.get(img_url)\n",
    "img = Image.open(BytesIO(response.content))\n",
    "imshow(img)\n",
    "jsonData = get_image_features(img_url)\n",
    "desc = jsonData['description']['captions'][0]['text']\n",
    "print(desc)"
   ]
  },
  {
   "cell_type": "code",
   "execution_count": null,
   "metadata": {},
   "outputs": [],
   "source": []
  }
 ],
 "metadata": {
  "kernelspec": {
   "display_name": "Python 3",
   "language": "python",
   "name": "python3"
  },
  "language_info": {
   "codemirror_mode": {
    "name": "ipython",
    "version": 3
   },
   "file_extension": ".py",
   "mimetype": "text/x-python",
   "name": "python",
   "nbconvert_exporter": "python",
   "pygments_lexer": "ipython3",
   "version": "3.6.4"
  }
 },
 "nbformat": 4,
 "nbformat_minor": 2
}
